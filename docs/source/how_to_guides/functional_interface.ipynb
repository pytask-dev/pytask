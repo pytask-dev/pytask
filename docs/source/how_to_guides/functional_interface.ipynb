{
 "cells": [
  {
   "cell_type": "markdown",
   "metadata": {},
   "source": [
    "# Functional Interface\n",
    "\n",
    "pytask offers a functional interface to users who want more flexibility than is given by a command line interface. It even allows you to run pytask from a Python interpreter or a Jupyter notebook like this article here.\n",
    "\n",
    "\n",
    "Let's see how it works!"
   ]
  },
  {
   "cell_type": "code",
   "execution_count": 1,
   "metadata": {},
   "outputs": [],
   "source": [
    "from pathlib import Path\n",
    "from typing import Annotated\n",
    "\n",
    "import pytask\n",
    "from pytask import task"
   ]
  },
  {
   "cell_type": "markdown",
   "metadata": {},
   "source": [
    "Here is a small workflow where two tasks create two text files and the third task merges both of them into one file.\n",
    "\n",
    "One important bit to note here is that the second task is created from a lambda function. So, you can use dynamically defined functions to create tasks.\n",
    "\n",
    "It also shows how easy it is to wrap any third-party function where you have no control over the signature, but you can still easily wrap them with pytask."
   ]
  },
  {
   "cell_type": "code",
   "execution_count": 2,
   "metadata": {},
   "outputs": [],
   "source": [
    "def task_create_first_file() -> Annotated[str, Path(\"first.txt\")]:\n",
    "    return \"Hello, \"\n",
    "\n",
    "\n",
    "task_create_second_file = task(\n",
    "    name=\"task_create_second_file\", produces=Path(\"second.txt\")\n",
    ")(lambda *x: \"World!\")\n",
    "\n",
    "\n",
    "def task_merge_files(\n",
    "    first: Path = Path(\"first.txt\"), second: Path = Path(\"second.txt\")\n",
    ") -> Annotated[str, Path(\"hello_world.txt\")]:\n",
    "    return first.read_text() + second.read_text()"
   ]
  },
  {
   "cell_type": "markdown",
   "metadata": {},
   "source": [
    "Now, let us execute this little workflow."
   ]
  },
  {
   "cell_type": "code",
   "execution_count": 3,
   "metadata": {},
   "outputs": [
    {
     "data": {
      "text/html": [
       "<pre style=\"white-space:pre;overflow-x:auto;line-height:normal;font-family:Menlo,'DejaVu Sans Mono',consolas,'Courier New',monospace\"><span style=\"color: #000000; text-decoration-color: #000000\">────────────────────────────────────────────── </span>Start pytask session<span style=\"color: #000000; text-decoration-color: #000000\"> ───────────────────────────────────────────────</span>\n",
       "</pre>\n"
      ],
      "text/plain": [
       "\u001b[39m────────────────────────────────────────────── \u001b[0mStart pytask session\u001b[39m ───────────────────────────────────────────────\u001b[0m\n"
      ]
     },
     "metadata": {},
     "output_type": "display_data"
    },
    {
     "data": {
      "text/html": [
       "<pre style=\"white-space:pre;overflow-x:auto;line-height:normal;font-family:Menlo,'DejaVu Sans Mono',consolas,'Courier New',monospace\">Platform: darwin -- Python 3.12.12, pytask 0.5.6.dev17+g2a33ab7d5.d20251030, pluggy 1.6.0\n",
       "</pre>\n"
      ],
      "text/plain": [
       "Platform: darwin -- Python 3.12.12, pytask 0.5.6.dev17+g2a33ab7d5.d20251030, pluggy 1.6.0\n"
      ]
     },
     "metadata": {},
     "output_type": "display_data"
    },
    {
     "data": {
      "text/html": [
       "<pre style=\"white-space:pre;overflow-x:auto;line-height:normal;font-family:Menlo,'DejaVu Sans Mono',consolas,'Courier New',monospace\">Root: <span style=\"color: #800080; text-decoration-color: #800080\">/Users/tobiasr/git/</span><span style=\"color: #ff00ff; text-decoration-color: #ff00ff\">pytask</span>\n",
       "</pre>\n"
      ],
      "text/plain": [
       "Root: \u001b[35m/Users/tobiasr/git/\u001b[0m\u001b[95mpytask\u001b[0m\n"
      ]
     },
     "metadata": {},
     "output_type": "display_data"
    },
    {
     "data": {
      "text/html": [
       "<pre style=\"white-space:pre;overflow-x:auto;line-height:normal;font-family:Menlo,'DejaVu Sans Mono',consolas,'Courier New',monospace\"></pre>\n"
      ],
      "text/plain": []
     },
     "metadata": {},
     "output_type": "display_data"
    },
    {
     "data": {
      "text/html": [
       "<pre style=\"white-space:pre;overflow-x:auto;line-height:normal;font-family:Menlo,'DejaVu Sans Mono',consolas,'Courier New',monospace\">Collected 3 tasks.\n",
       "</pre>\n"
      ],
      "text/plain": [
       "Collected 3 tasks.\n"
      ]
     },
     "metadata": {},
     "output_type": "display_data"
    },
    {
     "data": {
      "text/html": [
       "<pre style=\"white-space:pre;overflow-x:auto;line-height:normal;font-family:Menlo,'DejaVu Sans Mono',consolas,'Courier New',monospace\">\n",
       "</pre>\n"
      ],
      "text/plain": [
       "\n"
      ]
     },
     "metadata": {},
     "output_type": "display_data"
    },
    {
     "data": {
      "application/vnd.jupyter.widget-view+json": {
       "model_id": "35f4210e20704ca7b8130462a887bebf",
       "version_major": 2,
       "version_minor": 0
      },
      "text/plain": [
       "Output()"
      ]
     },
     "metadata": {},
     "output_type": "display_data"
    },
    {
     "data": {
      "text/html": [
       "<pre style=\"white-space:pre;overflow-x:auto;line-height:normal;font-family:Menlo,'DejaVu Sans Mono',consolas,'Courier New',monospace\"></pre>\n"
      ],
      "text/plain": []
     },
     "metadata": {},
     "output_type": "display_data"
    },
    {
     "data": {
      "text/html": [
       "<pre style=\"white-space:pre;overflow-x:auto;line-height:normal;font-family:Menlo,'DejaVu Sans Mono',consolas,'Courier New',monospace\">╭─────────────────────────┬─────────╮\n",
       "│<span style=\"font-weight: bold\"> Task                    </span>│<span style=\"font-weight: bold\"> Outcome </span>│\n",
       "├─────────────────────────┼─────────┤\n",
       "│ <a href=\"file://None\" target=\"_blank\">task_create_first_file </a> │ <span style=\"color: #137c39; text-decoration-color: #137c39\">.      </span> │\n",
       "│ <a href=\"file://None\" target=\"_blank\">task_create_second_file</a> │ <span style=\"color: #137c39; text-decoration-color: #137c39\">.      </span> │\n",
       "│ <a href=\"file://None\" target=\"_blank\">task_merge_files       </a> │ <span style=\"color: #137c39; text-decoration-color: #137c39\">.      </span> │\n",
       "╰─────────────────────────┴─────────╯\n",
       "</pre>\n"
      ],
      "text/plain": [
       "╭─────────────────────────┬─────────╮\n",
       "│\u001b[1m \u001b[0m\u001b[1mTask                   \u001b[0m\u001b[1m \u001b[0m│\u001b[1m \u001b[0m\u001b[1mOutcome\u001b[0m\u001b[1m \u001b[0m│\n",
       "├─────────────────────────┼─────────┤\n",
       "│ \u001b]8;id=780914;file://None\u001b\\task_create_first_file \u001b]8;;\u001b\\ │ \u001b[38;2;19;124;57m.      \u001b[0m │\n",
       "│ \u001b]8;id=865151;file://None\u001b\\task_create_second_file\u001b]8;;\u001b\\ │ \u001b[38;2;19;124;57m.      \u001b[0m │\n",
       "│ \u001b]8;id=487888;file://None\u001b\\task_merge_files       \u001b]8;;\u001b\\ │ \u001b[38;2;19;124;57m.      \u001b[0m │\n",
       "╰─────────────────────────┴─────────╯\n"
      ]
     },
     "metadata": {},
     "output_type": "display_data"
    },
    {
     "data": {
      "text/html": [
       "<pre style=\"white-space:pre;overflow-x:auto;line-height:normal;font-family:Menlo,'DejaVu Sans Mono',consolas,'Courier New',monospace\">\n",
       "</pre>\n"
      ],
      "text/plain": [
       "\n"
      ]
     },
     "metadata": {},
     "output_type": "display_data"
    },
    {
     "data": {
      "text/html": [
       "<pre style=\"white-space:pre;overflow-x:auto;line-height:normal;font-family:Menlo,'DejaVu Sans Mono',consolas,'Courier New',monospace\"><span style=\"color: #7f7f7f; text-decoration-color: #7f7f7f\">───────────────────────────────────────────────────────────────────────────────────────────────────────────────────</span>\n",
       "</pre>\n"
      ],
      "text/plain": [
       "\u001b[2m───────────────────────────────────────────────────────────────────────────────────────────────────────────────────\u001b[0m\n"
      ]
     },
     "metadata": {},
     "output_type": "display_data"
    },
    {
     "data": {
      "text/html": [
       "<pre style=\"white-space:pre;overflow-x:auto;line-height:normal;font-family:Menlo,'DejaVu Sans Mono',consolas,'Courier New',monospace\"><span style=\"color: #137c39; text-decoration-color: #137c39\">╭───────────</span><span style=\"color: #f2f2f2; text-decoration-color: #f2f2f2; font-weight: bold\"> Summary </span><span style=\"color: #137c39; text-decoration-color: #137c39\">────────────╮</span>\n",
       "<span style=\"color: #137c39; text-decoration-color: #137c39\">│</span> <span style=\"color: #f2f2f2; text-decoration-color: #f2f2f2\"> 3  Collected tasks           </span> <span style=\"color: #137c39; text-decoration-color: #137c39\">│</span>\n",
       "<span style=\"color: #137c39; text-decoration-color: #137c39\">│</span> <span style=\"color: #f2f2f2; text-decoration-color: #f2f2f2; background-color: #137c39\"> 3  Succeeded        (100.0%) </span> <span style=\"color: #137c39; text-decoration-color: #137c39\">│</span>\n",
       "<span style=\"color: #137c39; text-decoration-color: #137c39\">╰────────────────────────────────╯</span>\n",
       "</pre>\n"
      ],
      "text/plain": [
       "\u001b[38;2;19;124;57m╭─\u001b[0m\u001b[38;2;19;124;57m──────────\u001b[0m\u001b[1;38;2;242;242;242m Summary \u001b[0m\u001b[38;2;19;124;57m───────────\u001b[0m\u001b[38;2;19;124;57m─╮\u001b[0m\n",
       "\u001b[38;2;19;124;57m│\u001b[0m \u001b[38;2;242;242;242m \u001b[0m\u001b[38;2;242;242;242m3\u001b[0m\u001b[38;2;242;242;242m \u001b[0m\u001b[38;2;242;242;242m \u001b[0m\u001b[38;2;242;242;242mCollected tasks\u001b[0m\u001b[38;2;242;242;242m \u001b[0m\u001b[38;2;242;242;242m \u001b[0m\u001b[38;2;242;242;242m        \u001b[0m\u001b[38;2;242;242;242m \u001b[0m \u001b[38;2;19;124;57m│\u001b[0m\n",
       "\u001b[38;2;19;124;57m│\u001b[0m \u001b[38;2;242;242;242;48;2;19;124;57m \u001b[0m\u001b[38;2;242;242;242;48;2;19;124;57m3\u001b[0m\u001b[38;2;242;242;242;48;2;19;124;57m \u001b[0m\u001b[38;2;242;242;242;48;2;19;124;57m \u001b[0m\u001b[38;2;242;242;242;48;2;19;124;57mSucceeded      \u001b[0m\u001b[38;2;242;242;242;48;2;19;124;57m \u001b[0m\u001b[38;2;242;242;242;48;2;19;124;57m \u001b[0m\u001b[38;2;242;242;242;48;2;19;124;57m(100.0%)\u001b[0m\u001b[38;2;242;242;242;48;2;19;124;57m \u001b[0m \u001b[38;2;19;124;57m│\u001b[0m\n",
       "\u001b[38;2;19;124;57m╰────────────────────────────────╯\u001b[0m\n"
      ]
     },
     "metadata": {},
     "output_type": "display_data"
    },
    {
     "data": {
      "text/html": [
       "<pre style=\"white-space:pre;overflow-x:auto;line-height:normal;font-family:Menlo,'DejaVu Sans Mono',consolas,'Courier New',monospace\"><span style=\"color: #137c39; text-decoration-color: #137c39\">──────────────────────────────────────────── Succeeded in 0.05 seconds ────────────────────────────────────────────</span>\n",
       "</pre>\n"
      ],
      "text/plain": [
       "\u001b[38;2;19;124;57m──────────────────────────────────────────── \u001b[0m\u001b[38;2;19;124;57mSucceeded in 0.05 seconds\u001b[0m\u001b[38;2;19;124;57m ────────────────────────────────────────────\u001b[0m\n"
      ]
     },
     "metadata": {},
     "output_type": "display_data"
    }
   ],
   "source": [
    "session = pytask.build(\n",
    "    tasks=[task_create_first_file, task_merge_files, task_create_second_file]\n",
    ")"
   ]
  },
  {
   "cell_type": "markdown",
   "metadata": {},
   "source": [
    "The information on the executed workflow can be found in the `session`."
   ]
  },
  {
   "cell_type": "code",
   "execution_count": 4,
   "metadata": {},
   "outputs": [
    {
     "data": {
      "text/plain": [
       "Session(config={'pm': <pluggy._manager.PluginManager object at 0x10fd78650>, 'markers': {'filterwarnings': 'Add a filter for a warning to a task.', 'persist': 'Prevent execution of a task if all products exist and even if something has changed (dependencies, source file, products). This decorator might be useful for expensive tasks where only the formatting of the file has changed. The state of the files which have changed will also be remembered and another run will skip the task with success.', 'skip': 'Skip a task and all its dependent tasks.', 'skip_ancestor_failed': 'Internal decorator applied to tasks if any of its preceding tasks failed.', 'skip_unchanged': 'Internal decorator applied to tasks which have already been executed and have not been changed.', 'skipif': 'Skip a task and all its dependent tasks if a condition is met.', 'task': 'Mark a function as a task regardless of its name. Or mark tasks which are repeated in a loop. See this tutorial for more information: [link https://bit.ly/3DWrXS3]https://bit.ly/3DWrXS3[/].', 'try_first': 'Try to execute a task a early as possible.', 'try_last': 'Try to execute a task a late as possible.'}, 'config': None, 'database_url': sqlite:////Users/tobiasr/git/pytask/.pytask/pytask.sqlite3, 'editor_url_scheme': 'file', 'export': <_ExportFormats.NO: 'no'>, 'hook_module': None, 'ignore': ['.codecov.yml', '.gitignore', '.pre-commit-config.yaml', '.readthedocs.yml', '.readthedocs.yaml', 'readthedocs.yml', 'readthedocs.yaml', 'environment.yml', 'pyproject.toml', 'setup.cfg', 'tox.ini', '.git/*', '.venv/*', '.pixi/*', '*.egg-info/*', '.ipynb_checkpoints/*', '.mypy_cache/*', '.nox/*', '.tox/*', '_build/*', '__pycache__/*', 'build/*', 'dist/*', 'pytest_cache/*'], 'paths': [], 'layout': 'dot', 'output_path': 'dag.pdf', 'rank_direction': <_RankDirection.TB: 'TB'>, 'expression': '', 'marker_expression': '', 'nodes': False, 'strict_markers': False, 'directories': False, 'exclude': [None, '.git/*', '/Users/tobiasr/git/pytask/.pytask/*'], 'mode': <_CleanMode.DRY_RUN: 'dry-run'>, 'quiet': False, 'capture': <CaptureMethod.FD: 'fd'>, 'debug_pytask': False, 'disable_warnings': False, 'dry_run': False, 'explain': False, 'force': False, 'max_failures': inf, 'n_entries_in_table': 15, 'pdb': False, 'pdbcls': None, 's': False, 'show_capture': <ShowCapture.ALL: 'all'>, 'show_errors_immediately': False, 'show_locals': False, 'show_traceback': True, 'sort_table': True, 'trace': False, 'verbose': 1, 'stop_after_first_failure': False, 'check_casing_of_paths': True, 'pdb_cls': '', 'tasks': [<function task_create_first_file at 0x10f14a340>, <function task_merge_files at 0x108b37240>, <function <lambda> at 0x10fd6e200>], 'task_files': ('task_*.py',), 'command': 'build', 'root': PosixPath('/Users/tobiasr/git/pytask'), 'filterwarnings': []}, collection_reports=[CollectionReport(outcome=<CollectionOutcome.SUCCESS: 1>, node=TaskWithoutPath(name='task_merge_files', function=<function task_merge_files at 0x108b37240>, depends_on={'first': PathNode(path=PosixPath('/Users/tobiasr/git/pytask/docs/source/how_to_guides/first.txt'), name='pytask/docs/source/how_to_guides/first.txt', attributes={}), 'second': PathNode(path=PosixPath('/Users/tobiasr/git/pytask/docs/source/how_to_guides/second.txt'), name='pytask/docs/source/how_to_guides/second.txt', attributes={})}, produces={'return': PathNode(path=PosixPath('/Users/tobiasr/git/pytask/docs/source/how_to_guides/hello_world.txt'), name='pytask/docs/source/how_to_guides/hello_world.txt', attributes={})}, markers=[Mark(name='task', args=(), kwargs={})], report_sections=[], attributes={'collection_id': UUID('ea334f40-41a6-46f4-8a90-2ceee3b46db9'), 'after': [], 'is_generator': False, 'duration': (1761860160.3823931, 1761860160.3829582)}), exc_info=None), CollectionReport(outcome=<CollectionOutcome.SUCCESS: 1>, node=TaskWithoutPath(name='task_create_second_file', function=<function <lambda> at 0x10fd6e200>, depends_on={}, produces={'return': PathNode(path=PosixPath('/Users/tobiasr/git/pytask/docs/source/how_to_guides/second.txt'), name='pytask/docs/source/how_to_guides/second.txt', attributes={})}, markers=[Mark(name='task', args=(), kwargs={})], report_sections=[], attributes={'collection_id': UUID('a4ecfefd-61b0-4b89-8bd6-3a57a4fd6f8a'), 'after': [], 'is_generator': False, 'duration': (1761860160.370384, 1761860160.370671)}), exc_info=None), CollectionReport(outcome=<CollectionOutcome.SUCCESS: 1>, node=TaskWithoutPath(name='task_create_first_file', function=<function task_create_first_file at 0x10f14a340>, depends_on={}, produces={'return': PathNode(path=PosixPath('/Users/tobiasr/git/pytask/docs/source/how_to_guides/first.txt'), name='pytask/docs/source/how_to_guides/first.txt', attributes={})}, markers=[Mark(name='task', args=(), kwargs={})], report_sections=[], attributes={'collection_id': UUID('d557f1a5-d539-49e0-882b-d39a6f9d0b81'), 'after': [], 'is_generator': False, 'duration': (1761860160.3600278, 1761860160.361962)}), exc_info=None)], dag=<networkx.classes.digraph.DiGraph object at 0x10fcde5a0>, hook=<pluggy._hooks.HookRelay object at 0x10fd78920>, tasks=[TaskWithoutPath(name='task_merge_files', function=<function task_merge_files at 0x108b37240>, depends_on={'first': PathNode(path=PosixPath('/Users/tobiasr/git/pytask/docs/source/how_to_guides/first.txt'), name='pytask/docs/source/how_to_guides/first.txt', attributes={}), 'second': PathNode(path=PosixPath('/Users/tobiasr/git/pytask/docs/source/how_to_guides/second.txt'), name='pytask/docs/source/how_to_guides/second.txt', attributes={})}, produces={'return': PathNode(path=PosixPath('/Users/tobiasr/git/pytask/docs/source/how_to_guides/hello_world.txt'), name='pytask/docs/source/how_to_guides/hello_world.txt', attributes={})}, markers=[Mark(name='task', args=(), kwargs={})], report_sections=[], attributes={'collection_id': UUID('ea334f40-41a6-46f4-8a90-2ceee3b46db9'), 'after': [], 'is_generator': False, 'duration': (1761860160.3823931, 1761860160.3829582)}), TaskWithoutPath(name='task_create_second_file', function=<function <lambda> at 0x10fd6e200>, depends_on={}, produces={'return': PathNode(path=PosixPath('/Users/tobiasr/git/pytask/docs/source/how_to_guides/second.txt'), name='pytask/docs/source/how_to_guides/second.txt', attributes={})}, markers=[Mark(name='task', args=(), kwargs={})], report_sections=[], attributes={'collection_id': UUID('a4ecfefd-61b0-4b89-8bd6-3a57a4fd6f8a'), 'after': [], 'is_generator': False, 'duration': (1761860160.370384, 1761860160.370671)}), TaskWithoutPath(name='task_create_first_file', function=<function task_create_first_file at 0x10f14a340>, depends_on={}, produces={'return': PathNode(path=PosixPath('/Users/tobiasr/git/pytask/docs/source/how_to_guides/first.txt'), name='pytask/docs/source/how_to_guides/first.txt', attributes={})}, markers=[Mark(name='task', args=(), kwargs={})], report_sections=[], attributes={'collection_id': UUID('d557f1a5-d539-49e0-882b-d39a6f9d0b81'), 'after': [], 'is_generator': False, 'duration': (1761860160.3600278, 1761860160.361962)})], dag_report=None, execution_reports=[ExecutionReport(task=TaskWithoutPath(name='task_create_first_file', function=<function task_create_first_file at 0x10f14a340>, depends_on={}, produces={'return': PathNode(path=PosixPath('/Users/tobiasr/git/pytask/docs/source/how_to_guides/first.txt'), name='pytask/docs/source/how_to_guides/first.txt', attributes={})}, markers=[Mark(name='task', args=(), kwargs={})], report_sections=[], attributes={'collection_id': UUID('d557f1a5-d539-49e0-882b-d39a6f9d0b81'), 'after': [], 'is_generator': False, 'duration': (1761860160.3600278, 1761860160.361962)}), outcome=<TaskOutcome.SUCCESS: 1>, exc_info=None, sections=[]), ExecutionReport(task=TaskWithoutPath(name='task_create_second_file', function=<function <lambda> at 0x10fd6e200>, depends_on={}, produces={'return': PathNode(path=PosixPath('/Users/tobiasr/git/pytask/docs/source/how_to_guides/second.txt'), name='pytask/docs/source/how_to_guides/second.txt', attributes={})}, markers=[Mark(name='task', args=(), kwargs={})], report_sections=[], attributes={'collection_id': UUID('a4ecfefd-61b0-4b89-8bd6-3a57a4fd6f8a'), 'after': [], 'is_generator': False, 'duration': (1761860160.370384, 1761860160.370671)}), outcome=<TaskOutcome.SUCCESS: 1>, exc_info=None, sections=[]), ExecutionReport(task=TaskWithoutPath(name='task_merge_files', function=<function task_merge_files at 0x108b37240>, depends_on={'first': PathNode(path=PosixPath('/Users/tobiasr/git/pytask/docs/source/how_to_guides/first.txt'), name='pytask/docs/source/how_to_guides/first.txt', attributes={}), 'second': PathNode(path=PosixPath('/Users/tobiasr/git/pytask/docs/source/how_to_guides/second.txt'), name='pytask/docs/source/how_to_guides/second.txt', attributes={})}, produces={'return': PathNode(path=PosixPath('/Users/tobiasr/git/pytask/docs/source/how_to_guides/hello_world.txt'), name='pytask/docs/source/how_to_guides/hello_world.txt', attributes={})}, markers=[Mark(name='task', args=(), kwargs={})], report_sections=[], attributes={'collection_id': UUID('ea334f40-41a6-46f4-8a90-2ceee3b46db9'), 'after': [], 'is_generator': False, 'duration': (1761860160.3823931, 1761860160.3829582)}), outcome=<TaskOutcome.SUCCESS: 1>, exc_info=None, sections=[])], exit_code=<ExitCode.OK: 0>, collection_start=1761860160.3489978, collection_end=1761860160.351701, execution_start=1761860160.3525, execution_end=1761860160.3991098, n_tasks_failed=0, scheduler=TopologicalSorter(dag=<networkx.classes.digraph.DiGraph object at 0x10fee0f20>, priorities={'45a637ca3cc7aa973d4b315cc1bef02217b79918357fd35c6fa61f4e2d2f9948': 0, '2a06f358fc8e621754c133af76f5ac1b3e8ad5172b5803823cb264b30ea5d829': 0, '82d6a7ce01a2a50d5d4bd5081d662df92b8c500fbc172f94fb026c9d1d4ebc4a': 0}, _nodes_processing=set(), _nodes_done={'45a637ca3cc7aa973d4b315cc1bef02217b79918357fd35c6fa61f4e2d2f9948', '2a06f358fc8e621754c133af76f5ac1b3e8ad5172b5803823cb264b30ea5d829', '82d6a7ce01a2a50d5d4bd5081d662df92b8c500fbc172f94fb026c9d1d4ebc4a'}), should_stop=False, warnings=[])"
      ]
     },
     "execution_count": 4,
     "metadata": {},
     "output_type": "execute_result"
    }
   ],
   "source": [
    "session"
   ]
  },
  {
   "cell_type": "markdown",
   "metadata": {},
   "source": [
    "## Repeated Tasks\n",
    "\n",
    "You can also create multiple tasks with the same function name by using the `@task` decorator in a loop. This is useful when you want to run the same operation with different parameters."
   ]
  },
  {
   "cell_type": "code",
   "execution_count": 5,
   "metadata": {},
   "outputs": [],
   "source": [
    "from pytask import Product\n",
    "\n",
    "# Create repeated tasks with different parameters\n",
    "tasks = []\n",
    "for i in range(3):\n",
    "\n",
    "    def create_file(value: int, path: Annotated[Path, Product]) -> None:\n",
    "        path.write_text(f\"Result: {value}\")\n",
    "\n",
    "    t = task(kwargs={\"value\": i * 100, \"path\": Path(f\"output_{i}.txt\")})(create_file)\n",
    "    tasks.append(t)"
   ]
  },
  {
   "cell_type": "code",
   "execution_count": 6,
   "metadata": {},
   "outputs": [
    {
     "data": {
      "text/html": [
       "<pre style=\"white-space:pre;overflow-x:auto;line-height:normal;font-family:Menlo,'DejaVu Sans Mono',consolas,'Courier New',monospace\"><span style=\"color: #000000; text-decoration-color: #000000\">────────────────────────────────────────────── </span>Start pytask session<span style=\"color: #000000; text-decoration-color: #000000\"> ───────────────────────────────────────────────</span>\n",
       "</pre>\n"
      ],
      "text/plain": [
       "\u001b[39m────────────────────────────────────────────── \u001b[0mStart pytask session\u001b[39m ───────────────────────────────────────────────\u001b[0m\n"
      ]
     },
     "metadata": {},
     "output_type": "display_data"
    },
    {
     "data": {
      "text/html": [
       "<pre style=\"white-space:pre;overflow-x:auto;line-height:normal;font-family:Menlo,'DejaVu Sans Mono',consolas,'Courier New',monospace\">Platform: darwin -- Python 3.12.12, pytask 0.5.6.dev17+g2a33ab7d5.d20251030, pluggy 1.6.0\n",
       "</pre>\n"
      ],
      "text/plain": [
       "Platform: darwin -- Python 3.12.12, pytask 0.5.6.dev17+g2a33ab7d5.d20251030, pluggy 1.6.0\n"
      ]
     },
     "metadata": {},
     "output_type": "display_data"
    },
    {
     "data": {
      "text/html": [
       "<pre style=\"white-space:pre;overflow-x:auto;line-height:normal;font-family:Menlo,'DejaVu Sans Mono',consolas,'Courier New',monospace\">Root: <span style=\"color: #800080; text-decoration-color: #800080\">/Users/tobiasr/git/</span><span style=\"color: #ff00ff; text-decoration-color: #ff00ff\">pytask</span>\n",
       "</pre>\n"
      ],
      "text/plain": [
       "Root: \u001b[35m/Users/tobiasr/git/\u001b[0m\u001b[95mpytask\u001b[0m\n"
      ]
     },
     "metadata": {},
     "output_type": "display_data"
    },
    {
     "data": {
      "text/html": [
       "<pre style=\"white-space:pre;overflow-x:auto;line-height:normal;font-family:Menlo,'DejaVu Sans Mono',consolas,'Courier New',monospace\"></pre>\n"
      ],
      "text/plain": []
     },
     "metadata": {},
     "output_type": "display_data"
    },
    {
     "data": {
      "text/html": [
       "<pre style=\"white-space:pre;overflow-x:auto;line-height:normal;font-family:Menlo,'DejaVu Sans Mono',consolas,'Courier New',monospace\">Collected 3 tasks.\n",
       "</pre>\n"
      ],
      "text/plain": [
       "Collected 3 tasks.\n"
      ]
     },
     "metadata": {},
     "output_type": "display_data"
    },
    {
     "data": {
      "text/html": [
       "<pre style=\"white-space:pre;overflow-x:auto;line-height:normal;font-family:Menlo,'DejaVu Sans Mono',consolas,'Courier New',monospace\">\n",
       "</pre>\n"
      ],
      "text/plain": [
       "\n"
      ]
     },
     "metadata": {},
     "output_type": "display_data"
    },
    {
     "data": {
      "application/vnd.jupyter.widget-view+json": {
       "model_id": "ebd3051cde6f429fafdc830e688fa1b3",
       "version_major": 2,
       "version_minor": 0
      },
      "text/plain": [
       "Output()"
      ]
     },
     "metadata": {},
     "output_type": "display_data"
    },
    {
     "data": {
      "text/html": [
       "<pre style=\"white-space:pre;overflow-x:auto;line-height:normal;font-family:Menlo,'DejaVu Sans Mono',consolas,'Courier New',monospace\"></pre>\n"
      ],
      "text/plain": []
     },
     "metadata": {},
     "output_type": "display_data"
    },
    {
     "data": {
      "text/html": [
       "<pre style=\"white-space:pre;overflow-x:auto;line-height:normal;font-family:Menlo,'DejaVu Sans Mono',consolas,'Courier New',monospace\">╭────────────────────────┬─────────╮\n",
       "│<span style=\"font-weight: bold\"> Task                   </span>│<span style=\"font-weight: bold\"> Outcome </span>│\n",
       "├────────────────────────┼─────────┤\n",
       "│ <a href=\"file://None\" target=\"_blank\">create_file[0-path0]  </a> │ <span style=\"color: #137c39; text-decoration-color: #137c39\">.      </span> │\n",
       "│ <a href=\"file://None\" target=\"_blank\">create_file[100-path1]</a> │ <span style=\"color: #137c39; text-decoration-color: #137c39\">.      </span> │\n",
       "│ <a href=\"file://None\" target=\"_blank\">create_file[200-path2]</a> │ <span style=\"color: #137c39; text-decoration-color: #137c39\">.      </span> │\n",
       "╰────────────────────────┴─────────╯\n",
       "</pre>\n"
      ],
      "text/plain": [
       "╭────────────────────────┬─────────╮\n",
       "│\u001b[1m \u001b[0m\u001b[1mTask                  \u001b[0m\u001b[1m \u001b[0m│\u001b[1m \u001b[0m\u001b[1mOutcome\u001b[0m\u001b[1m \u001b[0m│\n",
       "├────────────────────────┼─────────┤\n",
       "│ \u001b]8;id=149853;file://None\u001b\\create_file[0-path0]  \u001b]8;;\u001b\\ │ \u001b[38;2;19;124;57m.      \u001b[0m │\n",
       "│ \u001b]8;id=248728;file://None\u001b\\create_file[100-path1]\u001b]8;;\u001b\\ │ \u001b[38;2;19;124;57m.      \u001b[0m │\n",
       "│ \u001b]8;id=290712;file://None\u001b\\create_file[200-path2]\u001b]8;;\u001b\\ │ \u001b[38;2;19;124;57m.      \u001b[0m │\n",
       "╰────────────────────────┴─────────╯\n"
      ]
     },
     "metadata": {},
     "output_type": "display_data"
    },
    {
     "data": {
      "text/html": [
       "<pre style=\"white-space:pre;overflow-x:auto;line-height:normal;font-family:Menlo,'DejaVu Sans Mono',consolas,'Courier New',monospace\">\n",
       "</pre>\n"
      ],
      "text/plain": [
       "\n"
      ]
     },
     "metadata": {},
     "output_type": "display_data"
    },
    {
     "data": {
      "text/html": [
       "<pre style=\"white-space:pre;overflow-x:auto;line-height:normal;font-family:Menlo,'DejaVu Sans Mono',consolas,'Courier New',monospace\"><span style=\"color: #7f7f7f; text-decoration-color: #7f7f7f\">───────────────────────────────────────────────────────────────────────────────────────────────────────────────────</span>\n",
       "</pre>\n"
      ],
      "text/plain": [
       "\u001b[2m───────────────────────────────────────────────────────────────────────────────────────────────────────────────────\u001b[0m\n"
      ]
     },
     "metadata": {},
     "output_type": "display_data"
    },
    {
     "data": {
      "text/html": [
       "<pre style=\"white-space:pre;overflow-x:auto;line-height:normal;font-family:Menlo,'DejaVu Sans Mono',consolas,'Courier New',monospace\"><span style=\"color: #137c39; text-decoration-color: #137c39\">╭───────────</span><span style=\"color: #f2f2f2; text-decoration-color: #f2f2f2; font-weight: bold\"> Summary </span><span style=\"color: #137c39; text-decoration-color: #137c39\">────────────╮</span>\n",
       "<span style=\"color: #137c39; text-decoration-color: #137c39\">│</span> <span style=\"color: #f2f2f2; text-decoration-color: #f2f2f2\"> 3  Collected tasks           </span> <span style=\"color: #137c39; text-decoration-color: #137c39\">│</span>\n",
       "<span style=\"color: #137c39; text-decoration-color: #137c39\">│</span> <span style=\"color: #f2f2f2; text-decoration-color: #f2f2f2; background-color: #137c39\"> 3  Succeeded        (100.0%) </span> <span style=\"color: #137c39; text-decoration-color: #137c39\">│</span>\n",
       "<span style=\"color: #137c39; text-decoration-color: #137c39\">╰────────────────────────────────╯</span>\n",
       "</pre>\n"
      ],
      "text/plain": [
       "\u001b[38;2;19;124;57m╭─\u001b[0m\u001b[38;2;19;124;57m──────────\u001b[0m\u001b[1;38;2;242;242;242m Summary \u001b[0m\u001b[38;2;19;124;57m───────────\u001b[0m\u001b[38;2;19;124;57m─╮\u001b[0m\n",
       "\u001b[38;2;19;124;57m│\u001b[0m \u001b[38;2;242;242;242m \u001b[0m\u001b[38;2;242;242;242m3\u001b[0m\u001b[38;2;242;242;242m \u001b[0m\u001b[38;2;242;242;242m \u001b[0m\u001b[38;2;242;242;242mCollected tasks\u001b[0m\u001b[38;2;242;242;242m \u001b[0m\u001b[38;2;242;242;242m \u001b[0m\u001b[38;2;242;242;242m        \u001b[0m\u001b[38;2;242;242;242m \u001b[0m \u001b[38;2;19;124;57m│\u001b[0m\n",
       "\u001b[38;2;19;124;57m│\u001b[0m \u001b[38;2;242;242;242;48;2;19;124;57m \u001b[0m\u001b[38;2;242;242;242;48;2;19;124;57m3\u001b[0m\u001b[38;2;242;242;242;48;2;19;124;57m \u001b[0m\u001b[38;2;242;242;242;48;2;19;124;57m \u001b[0m\u001b[38;2;242;242;242;48;2;19;124;57mSucceeded      \u001b[0m\u001b[38;2;242;242;242;48;2;19;124;57m \u001b[0m\u001b[38;2;242;242;242;48;2;19;124;57m \u001b[0m\u001b[38;2;242;242;242;48;2;19;124;57m(100.0%)\u001b[0m\u001b[38;2;242;242;242;48;2;19;124;57m \u001b[0m \u001b[38;2;19;124;57m│\u001b[0m\n",
       "\u001b[38;2;19;124;57m╰────────────────────────────────╯\u001b[0m\n"
      ]
     },
     "metadata": {},
     "output_type": "display_data"
    },
    {
     "data": {
      "text/html": [
       "<pre style=\"white-space:pre;overflow-x:auto;line-height:normal;font-family:Menlo,'DejaVu Sans Mono',consolas,'Courier New',monospace\"><span style=\"color: #137c39; text-decoration-color: #137c39\">──────────────────────────────────────────── Succeeded in 0.06 seconds ────────────────────────────────────────────</span>\n",
       "</pre>\n"
      ],
      "text/plain": [
       "\u001b[38;2;19;124;57m──────────────────────────────────────────── \u001b[0m\u001b[38;2;19;124;57mSucceeded in 0.06 seconds\u001b[0m\u001b[38;2;19;124;57m ────────────────────────────────────────────\u001b[0m\n"
      ]
     },
     "metadata": {},
     "output_type": "display_data"
    }
   ],
   "source": [
    "session = pytask.build(tasks=tasks)"
   ]
  },
  {
   "cell_type": "code",
   "execution_count": 7,
   "metadata": {},
   "outputs": [],
   "source": [
    "# Cleanup\n",
    "for i in range(3):\n",
    "    Path(f\"output_{i}.txt\").unlink()"
   ]
  },
  {
   "cell_type": "markdown",
   "metadata": {},
   "source": [
    "## Configuring the build\n",
    "\n",
    "To configure the build, {func}`pytask.build` has many more options that are the same that you find on the commandline."
   ]
  },
  {
   "cell_type": "code",
   "execution_count": 8,
   "metadata": {},
   "outputs": [
    {
     "name": "stdout",
     "output_type": "stream",
     "text": [
      "\u001b[31mSignature:\u001b[39m\n",
      "pytask.build(\n",
      "    *,\n",
      "    capture: \u001b[33m\"Literal['fd', 'no', 'sys', 'tee-sys'] | CaptureMethod\"\u001b[39m = <CaptureMethod.FD: \u001b[33m'fd'\u001b[39m>,\n",
      "    check_casing_of_paths: \u001b[33m'bool'\u001b[39m = \u001b[38;5;28;01mTrue\u001b[39;00m,\n",
      "    config: \u001b[33m'Path | None'\u001b[39m = \u001b[38;5;28;01mNone\u001b[39;00m,\n",
      "    database_url: \u001b[33m'str'\u001b[39m = \u001b[33m''\u001b[39m,\n",
      "    debug_pytask: \u001b[33m'bool'\u001b[39m = \u001b[38;5;28;01mFalse\u001b[39;00m,\n",
      "    disable_warnings: \u001b[33m'bool'\u001b[39m = \u001b[38;5;28;01mFalse\u001b[39;00m,\n",
      "    dry_run: \u001b[33m'bool'\u001b[39m = \u001b[38;5;28;01mFalse\u001b[39;00m,\n",
      "    editor_url_scheme: \u001b[33m\"Literal['no_link', 'file', 'vscode', 'pycharm'] | str\"\u001b[39m = \u001b[33m'file'\u001b[39m,\n",
      "    explain: \u001b[33m'bool'\u001b[39m = \u001b[38;5;28;01mFalse\u001b[39;00m,\n",
      "    expression: \u001b[33m'str'\u001b[39m = \u001b[33m''\u001b[39m,\n",
      "    force: \u001b[33m'bool'\u001b[39m = \u001b[38;5;28;01mFalse\u001b[39;00m,\n",
      "    ignore: \u001b[33m'Iterable[str]'\u001b[39m = (),\n",
      "    marker_expression: \u001b[33m'str'\u001b[39m = \u001b[33m''\u001b[39m,\n",
      "    max_failures: \u001b[33m'float'\u001b[39m = inf,\n",
      "    n_entries_in_table: \u001b[33m'int'\u001b[39m = \u001b[32m15\u001b[39m,\n",
      "    paths: \u001b[33m'Path | Iterable[Path]'\u001b[39m = (),\n",
      "    pdb: \u001b[33m'bool'\u001b[39m = \u001b[38;5;28;01mFalse\u001b[39;00m,\n",
      "    pdb_cls: \u001b[33m'str'\u001b[39m = \u001b[33m''\u001b[39m,\n",
      "    s: \u001b[33m'bool'\u001b[39m = \u001b[38;5;28;01mFalse\u001b[39;00m,\n",
      "    show_capture: \u001b[33m\"Literal['no', 'stdout', 'stderr', 'all'] | ShowCapture\"\u001b[39m = <ShowCapture.ALL: \u001b[33m'all'\u001b[39m>,\n",
      "    show_errors_immediately: \u001b[33m'bool'\u001b[39m = \u001b[38;5;28;01mFalse\u001b[39;00m,\n",
      "    show_locals: \u001b[33m'bool'\u001b[39m = \u001b[38;5;28;01mFalse\u001b[39;00m,\n",
      "    show_traceback: \u001b[33m'bool'\u001b[39m = \u001b[38;5;28;01mTrue\u001b[39;00m,\n",
      "    sort_table: \u001b[33m'bool'\u001b[39m = \u001b[38;5;28;01mTrue\u001b[39;00m,\n",
      "    stop_after_first_failure: \u001b[33m'bool'\u001b[39m = \u001b[38;5;28;01mFalse\u001b[39;00m,\n",
      "    strict_markers: \u001b[33m'bool'\u001b[39m = \u001b[38;5;28;01mFalse\u001b[39;00m,\n",
      "    tasks: \u001b[33m'Callable[..., Any] | PTask | Iterable[Callable[..., Any] | PTask]'\u001b[39m = (),\n",
      "    task_files: \u001b[33m'Iterable[str]'\u001b[39m = (\u001b[33m'task_*.py'\u001b[39m,),\n",
      "    trace: \u001b[33m'bool'\u001b[39m = \u001b[38;5;28;01mFalse\u001b[39;00m,\n",
      "    verbose: \u001b[33m'int'\u001b[39m = \u001b[32m1\u001b[39m,\n",
      "    **kwargs: \u001b[33m'Any'\u001b[39m,\n",
      ") -> \u001b[33m'Session'\u001b[39m\n",
      "\u001b[31mDocstring:\u001b[39m\n",
      "Run pytask.\n",
      "\n",
      "This is the main command to run pytask which usually receives kwargs from the\n",
      "command line interface. It can also be used to run pytask interactively. Pass\n",
      "configuration in a dictionary.\n",
      "\n",
      "Parameters\n",
      "----------\n",
      "capture\n",
      "    The capture method for stdout and stderr.\n",
      "check_casing_of_paths\n",
      "    Whether errors should be raised when file names have different casings.\n",
      "config\n",
      "    A path to the configuration file.\n",
      "database_url\n",
      "    An URL to the database that tracks the status of tasks.\n",
      "debug_pytask\n",
      "    Whether debug information should be shown.\n",
      "disable_warnings\n",
      "    Whether warnings should be disabled and not displayed.\n",
      "dry_run\n",
      "    Whether a dry-run should be performed that shows which tasks need to be rerun.\n",
      "editor_url_scheme\n",
      "    An url scheme that allows to click on task names, node names and filenames and\n",
      "    jump right into you preferred editor to the right line.\n",
      "explain\n",
      "    Explain why tasks need to be executed by showing what changed.\n",
      "expression\n",
      "    Same as ``-k`` on the command line. Select tasks via expressions on task ids.\n",
      "force\n",
      "    Run tasks even though they would be skipped since nothing has changed.\n",
      "ignore\n",
      "    A pattern to ignore files or directories. Refer to ``pathlib.Path.match`` for\n",
      "    more info.\n",
      "marker_expression\n",
      "    Same as ``-m`` on the command line. Select tasks via marker expressions.\n",
      "max_failures\n",
      "    Stop after some failures.\n",
      "n_entries_in_table\n",
      "    How many entries to display in the table during the execution. Tasks which are\n",
      "    running are always displayed.\n",
      "paths\n",
      "    A path or collection of paths where pytask looks for the configuration and\n",
      "    tasks.\n",
      "pdb\n",
      "    Start the interactive debugger on errors.\n",
      "pdb_cls\n",
      "    Start a custom debugger on errors. For example:\n",
      "    ``--pdbcls=IPython.terminal.debugger:TerminalPdb``\n",
      "s\n",
      "    Shortcut for ``capture=\"no\"``.\n",
      "show_capture\n",
      "    Choose which captured output should be shown for failed tasks.\n",
      "show_errors_immediately\n",
      "    Show errors with tracebacks as soon as the task fails.\n",
      "show_locals\n",
      "    Show local variables in tracebacks.\n",
      "show_traceback\n",
      "    Choose whether tracebacks should be displayed or not.\n",
      "sort_table\n",
      "    Sort the table of tasks at the end of the execution.\n",
      "stop_after_first_failure\n",
      "    Stop after the first failure.\n",
      "strict_markers\n",
      "    Raise errors for unknown markers.\n",
      "tasks\n",
      "    A task or a collection of tasks which can be callables or instances following\n",
      "    {class}`~pytask.PTask`.\n",
      "task_files\n",
      "    A pattern to describe modules that contain tasks.\n",
      "trace\n",
      "    Enter debugger in the beginning of each task.\n",
      "verbose\n",
      "    Make pytask verbose (>= 0) or quiet (= 0).\n",
      "\n",
      "Returns\n",
      "-------\n",
      "session : pytask.Session\n",
      "    The session captures all the information of the current run.\n",
      "\u001b[31mFile:\u001b[39m      ~/git/pytask/src/_pytask/build.py\n",
      "\u001b[31mType:\u001b[39m      function"
     ]
    }
   ],
   "source": [
    "pytask.build?"
   ]
  },
  {
   "cell_type": "code",
   "execution_count": 9,
   "metadata": {},
   "outputs": [],
   "source": [
    "# Cleanup\n",
    "for name in (\"first.txt\", \"second.txt\", \"hello_world.txt\"):\n",
    "    Path(name).unlink()"
   ]
  }
 ],
 "metadata": {
  "kernelspec": {
   "display_name": ".venv",
   "language": "python",
   "name": "python3"
  },
  "language_info": {
   "codemirror_mode": {
    "name": "ipython",
    "version": 3
   },
   "file_extension": ".py",
   "mimetype": "text/x-python",
   "name": "python",
   "nbconvert_exporter": "python",
   "pygments_lexer": "ipython3",
   "version": "3.12.12"
  }
 },
 "nbformat": 4,
 "nbformat_minor": 2
}
