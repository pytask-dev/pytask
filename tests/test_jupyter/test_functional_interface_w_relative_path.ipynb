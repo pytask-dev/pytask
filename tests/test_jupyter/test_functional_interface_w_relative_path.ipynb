{
 "cells": [
  {
   "cell_type": "code",
   "execution_count": null,
   "id": "12bc75b1",
   "metadata": {},
   "outputs": [],
   "source": [
    "from pathlib import Path\n",
    "\n",
    "from typing_extensions import Annotated\n",
    "\n",
    "import pytask\n",
    "from pytask import ExitCode, PathNode, PythonNode"
   ]
  },
  {
   "cell_type": "code",
   "execution_count": null,
   "id": "29ac7311",
   "metadata": {},
   "outputs": [],
   "source": [
    "node_text = PythonNode(name=\"text\", hash=True)\n",
    "\n",
    "\n",
    "def create_text() -> Annotated[int, node_text]:\n",
    "    return \"This is the text.\"\n",
    "\n",
    "\n",
    "node_file = PathNode(name=\"product\", path=Path(\"file.txt\"))\n",
    "\n",
    "\n",
    "def create_file(text: Annotated[int, node_text]) -> Annotated[str, node_file]:\n",
    "    return text"
   ]
  },
  {
   "cell_type": "code",
   "execution_count": null,
   "id": "738c9418",
   "metadata": {},
   "outputs": [],
   "source": [
    "session = pytask.build(tasks=[create_file, create_text])\n",
    "assert session.exit_code == ExitCode.OK"
   ]
  }
 ],
 "metadata": {
  "kernelspec": {
   "display_name": "Python 3 (ipykernel)",
   "language": "python",
   "name": "python3"
  },
  "language_info": {
   "codemirror_mode": {
    "name": "ipython",
    "version": 3
   },
   "file_extension": ".py",
   "mimetype": "text/x-python",
   "name": "python",
   "nbconvert_exporter": "python",
   "pygments_lexer": "ipython3",
   "version": "3.11.6"
  }
 },
 "nbformat": 4,
 "nbformat_minor": 5
}
