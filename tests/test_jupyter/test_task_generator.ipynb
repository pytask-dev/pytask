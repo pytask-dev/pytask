{
 "cells": [
  {
   "cell_type": "code",
   "execution_count": null,
   "id": "0",
   "metadata": {},
   "outputs": [],
   "source": [
    "from __future__ import annotations\n",
    "\n",
    "from pathlib import Path\n",
    "\n",
    "from typing_extensions import Annotated\n",
    "\n",
    "import pytask\n",
    "from pytask import DirectoryNode, ExitCode, task"
   ]
  },
  {
   "cell_type": "code",
   "execution_count": null,
   "id": "1",
   "metadata": {},
   "outputs": [],
   "source": [
    "def task_create_files() -> Annotated[None, DirectoryNode(pattern=\"[ab].txt\")]:\n",
    "    path = Path()\n",
    "    path.joinpath(\"a.txt\").write_text(\"Hello, \")\n",
    "    path.joinpath(\"b.txt\").write_text(\"World!\")\n",
    "\n",
    "\n",
    "@task(after=task_create_files, is_generator=True)\n",
    "def task_generator_copy_files(\n",
    "    paths: Annotated[list[Path], DirectoryNode(pattern=\"[ab].txt\")]\n",
    "):\n",
    "    for path in paths:\n",
    "\n",
    "        @task\n",
    "        def task_copy(\n",
    "            path: Path = path,\n",
    "        ) -> Annotated[str, path.with_name(path.stem + \"-copy.txt\")]:\n",
    "            return path.read_text()"
   ]
  },
  {
   "cell_type": "code",
   "execution_count": null,
   "id": "2",
   "metadata": {},
   "outputs": [],
   "source": [
    "session = pytask.build(tasks=[task_create_files, task_generator_copy_files])\n",
    "assert session.exit_code == ExitCode.OK"
   ]
  }
 ],
 "metadata": {
  "kernelspec": {
   "display_name": "Python 3 (ipykernel)",
   "language": "python",
   "name": "python3"
  },
  "language_info": {
   "codemirror_mode": {
    "name": "ipython",
    "version": 3
   },
   "file_extension": ".py",
   "mimetype": "text/x-python",
   "name": "python",
   "nbconvert_exporter": "python",
   "pygments_lexer": "ipython3",
   "version": "3.11.7"
  }
 },
 "nbformat": 4,
 "nbformat_minor": 5
}
