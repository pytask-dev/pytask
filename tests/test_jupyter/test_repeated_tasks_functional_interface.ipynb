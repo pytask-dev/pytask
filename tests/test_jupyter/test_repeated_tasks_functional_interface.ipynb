{
 "cells": [
  {
   "cell_type": "code",
   "execution_count": null,
   "id": "0",
   "metadata": {},
   "outputs": [],
   "source": [
    "from pathlib import Path\n",
    "from typing import Annotated\n",
    "\n",
    "import pytask\n",
    "from pytask import ExitCode\n",
    "from pytask import Product\n",
    "from pytask import task"
   ]
  },
  {
   "cell_type": "code",
   "execution_count": null,
   "id": "1",
   "metadata": {},
   "outputs": [],
   "source": [
    "# Create repeated tasks with the same function name\n",
    "tasks = []\n",
    "for i in range(3):\n",
    "\n",
    "    def create_data(value: int, produces: Annotated[Path, Product]):\n",
    "        \"\"\"Generate data based on a value.\"\"\"\n",
    "        produces.write_text(str(value))\n",
    "\n",
    "    t = task(\n",
    "        kwargs={\"value\": i * 10, \"produces\": Path(f\"data_{i}.txt\").resolve()},\n",
    "    )(create_data)\n",
    "    tasks.append(t)"
   ]
  },
  {
   "cell_type": "code",
   "execution_count": null,
   "id": "2",
   "metadata": {},
   "outputs": [],
   "source": [
    "# Test that all tasks execute correctly\n",
    "session = pytask.build(tasks=tasks)\n",
    "assert session.exit_code == ExitCode.OK\n",
    "assert len(session.tasks) == 3, f\"Expected 3 tasks, got {len(session.tasks)}\"\n",
    "assert len(session.execution_reports) == 3, (\n",
    "    f\"Expected 3 execution reports, got {len(session.execution_reports)}\"\n",
    ")\n",
    "\n",
    "# Verify each file was created with the correct content\n",
    "assert Path(\"data_0.txt\").read_text() == \"0\"\n",
    "assert Path(\"data_1.txt\").read_text() == \"10\"\n",
    "assert Path(\"data_2.txt\").read_text() == \"20\"\n",
    "\n",
    "# Clean up\n",
    "Path(\"data_0.txt\").unlink()\n",
    "Path(\"data_1.txt\").unlink()\n",
    "Path(\"data_2.txt\").unlink()"
   ]
  }
 ],
 "metadata": {
  "kernelspec": {
   "display_name": "Python 3",
   "language": "python",
   "name": "python3"
  },
  "language_info": {
   "name": "python",
   "version": "3.12.0"
  }
 },
 "nbformat": 4,
 "nbformat_minor": 5
}
